{
 "cells": [
  {
   "cell_type": "markdown",
   "metadata": {},
   "source": [
    "# Introduction"
   ]
  },
  {
   "cell_type": "markdown",
   "metadata": {},
   "source": [
    "This notebook provides an example demonstrating how to work with Xilinx 100 GbE subsystem. The 100 GbE subsystem consists of a harded IP also known as the CMAC. This hardened IP is available in Xilinx UltraScale+ devices. See the [Xilinx documentation](https://www.xilinx.com/products/intellectual-property/cmac_usplus.html) for more details on the IP core. "
   ]
  },
  {
   "cell_type": "markdown",
   "metadata": {},
   "source": [
    "# Overlay Block Design"
   ]
  },
  {
   "cell_type": "markdown",
   "metadata": {},
   "source": [
    "![alt text](images/intro_overlay.png \"Aldec Daughter Card Plugged into ZCU111 FMC+ Connector\")"
   ]
  },
  {
   "cell_type": "markdown",
   "metadata": {},
   "source": [
    "# Hardware Setup"
   ]
  },
  {
   "cell_type": "markdown",
   "metadata": {},
   "source": [
    "The ZCU111 comes with four, SFP28 ports in a horizontal cage. Each of these is connected to one GTY transceiver and is capable of 25GbE. The four together acheive 100GbE. This design also demonstrates how to instead route the CMAC out of the onboard FMC+ connector and through an adapter board to one of two QSFP connectors. The QSFP connector similarly accepts four GTY transceivers each running 25GbE; however, they are all connected in the same connector. QSFP provides 100GbE in a smaller form factor."
   ]
  },
  {
   "cell_type": "markdown",
   "metadata": {},
   "source": [
    "This design uses the [Aldec FMC to QSPF daughter card](https://www.aldec.com/en/products/emulation/daughter_cards/fmc_daughter/fmc_qsfp) plugged into the FMC+ connector on the [ZCU111](https://www.xilinx.com/products/boards-and-kits/zcu111.html)."
   ]
  },
  {
   "cell_type": "markdown",
   "metadata": {},
   "source": [
    "![alt text](images/CMAC_Aldec_Setup_1.png \"Aldec Daughter Card Plugged into ZCU111 FMC+ Connector\")"
   ]
  },
  {
   "cell_type": "markdown",
   "metadata": {},
   "source": [
    "The design also features 4 FS \"generic\" 25GbE SFP28 passive loopback modules (Product: 109377) and 2 Amphelol 100GbE QSFP passive loopback modules (Product: SF-100GLB0W00-0DB)."
   ]
  },
  {
   "cell_type": "markdown",
   "metadata": {},
   "source": [
    "![alt text](images/CMAC_Aldec_Setup_2.png \"Aldec Daughter Card Plugged into ZCU111 FMC+ Connector\")"
   ]
  },
  {
   "cell_type": "markdown",
   "metadata": {},
   "source": [
    "# Imports"
   ]
  },
  {
   "cell_type": "code",
   "execution_count": 1,
   "metadata": {},
   "outputs": [
    {
     "data": {
      "application/javascript": [
       "\n",
       "try {\n",
       "require(['notebook/js/codecell'], function(codecell) {\n",
       "  codecell.CodeCell.options_default.highlight_modes[\n",
       "      'magic_text/x-csrc'] = {'reg':[/^%%pybind11/]};\n",
       "  Jupyter.notebook.events.one('kernel_ready.Kernel', function(){\n",
       "      Jupyter.notebook.get_cells().map(function(cell){\n",
       "          if (cell.cell_type == 'code'){ cell.auto_highlight(); } }) ;\n",
       "  });\n",
       "});\n",
       "} catch (e) {};\n"
      ]
     },
     "metadata": {},
     "output_type": "display_data"
    }
   ],
   "source": [
    "import pynq\n",
    "import numpy as np\n",
    "from cmac import CMAC"
   ]
  },
  {
   "cell_type": "markdown",
   "metadata": {},
   "source": [
    "# Download Overlay, Program FPGA, Initialize IP Cores"
   ]
  },
  {
   "cell_type": "code",
   "execution_count": 2,
   "metadata": {},
   "outputs": [],
   "source": [
    "# Download Overlay\n",
    "ol = pynq.Overlay('sfp28.bit')"
   ]
  },
  {
   "cell_type": "code",
   "execution_count": 3,
   "metadata": {},
   "outputs": [],
   "source": [
    "# Bind Drivers\n",
    "dma = ol.axi_dma_0\n",
    "cmac = ol.cmac_usplus_0"
   ]
  },
  {
   "cell_type": "markdown",
   "metadata": {},
   "source": [
    "If you don't have loopback modules, you can still experiment with the CMAC by enabling \"Near-End PMA Loopback\" in the cell below which routes the transmit path to the receive path internally as opposed to sending them off package via the transceivers."
   ]
  },
  {
   "cell_type": "code",
   "execution_count": 4,
   "metadata": {},
   "outputs": [],
   "source": [
    "# Put CMAC in internal Loopback Mode\n",
    "cmac.internal_loopback = 0"
   ]
  },
  {
   "cell_type": "code",
   "execution_count": 5,
   "metadata": {},
   "outputs": [],
   "source": [
    "# Bring up the CMAC Core\n",
    "cmac.start()"
   ]
  },
  {
   "cell_type": "markdown",
   "metadata": {},
   "source": [
    "# Test Functionality"
   ]
  },
  {
   "cell_type": "markdown",
   "metadata": {},
   "source": [
    "In this overlay, we are using a DMA IP to transfer data to and from the processing system. The DMA is configured in packet mode so it supplies the necessary tlast signal for the CMAC core. The CMAC core supports packet sizes from 64 to 9,000 bytes. To illustrate data transfer, we will encode a random string as a list of bytes and store the result in a numpy array. We then allocate input and output dma buffers with size equal to the numpy array size (in this case 472 bytes)."
   ]
  },
  {
   "cell_type": "code",
   "execution_count": 6,
   "metadata": {},
   "outputs": [],
   "source": [
    "# Random Data\n",
    "raw_str = ' /$$$$$$$  /$$     /$$ /$$   /$$  /$$$$$$ \\n| $$__  $$|  $$   /$$/| $$$ | $$ /$$__  $$\\n| $$  \\\\ $$ \\\\  $$ /$$/ | $$$$| $$| $$  \\\\ $$\\n| $$$$$$$/  \\\\  $$$$/  | $$ $$ $$| $$  | $$\\n| $$____/    \\\\  $$/   | $$  $$$$| $$  | $$\\n| $$          | $$    | $$\\\\  $$$| $$/$$ $$\\n| $$          | $$    | $$ \\\\  $$|  $$$$$$/\\n|__/          |__/    |__/  \\\\__/ \\\\____ $$$\\n                                      \\\\__/\\n\\n                                          \\n                                         '"
   ]
  },
  {
   "cell_type": "code",
   "execution_count": 7,
   "metadata": {},
   "outputs": [],
   "source": [
    "# Encode string as array of 472 bytes using default UTF-8 encoding\n",
    "packets_in = np.array(list(raw_str.encode()))"
   ]
  },
  {
   "cell_type": "code",
   "execution_count": 8,
   "metadata": {},
   "outputs": [],
   "source": [
    "# Allocate input and output buffers for transfer\n",
    "dma_buf_in = pynq.allocate(packets_in.shape[0])\n",
    "dma_buf_out = pynq.allocate(packets_in.shape[0])"
   ]
  },
  {
   "cell_type": "code",
   "execution_count": 9,
   "metadata": {},
   "outputs": [],
   "source": [
    "# Load data into input buffer\n",
    "dma_buf_in[:]=packets_in"
   ]
  },
  {
   "cell_type": "markdown",
   "metadata": {},
   "source": [
    "### DMA Transfer"
   ]
  },
  {
   "cell_type": "code",
   "execution_count": 10,
   "metadata": {},
   "outputs": [],
   "source": [
    "dma.sendchannel.transfer(dma_buf_in)"
   ]
  },
  {
   "cell_type": "code",
   "execution_count": 11,
   "metadata": {},
   "outputs": [],
   "source": [
    "dma.recvchannel.transfer(dma_buf_out)"
   ]
  },
  {
   "cell_type": "code",
   "execution_count": 12,
   "metadata": {},
   "outputs": [],
   "source": [
    "dma.sendchannel.wait()"
   ]
  },
  {
   "cell_type": "code",
   "execution_count": 13,
   "metadata": {},
   "outputs": [],
   "source": [
    "dma.recvchannel.wait()"
   ]
  },
  {
   "cell_type": "markdown",
   "metadata": {},
   "source": [
    "### Verify"
   ]
  },
  {
   "cell_type": "code",
   "execution_count": 14,
   "metadata": {},
   "outputs": [],
   "source": [
    "# Decode output data\n",
    "packets_out = bytes(dma_buf_out)"
   ]
  },
  {
   "cell_type": "code",
   "execution_count": 15,
   "metadata": {},
   "outputs": [
    {
     "name": "stdout",
     "output_type": "stream",
     "text": [
      " \u0000\u0000\u0000/\u0000\u0000\u0000$\u0000\u0000\u0000$\u0000\u0000\u0000$\u0000\u0000\u0000$\u0000\u0000\u0000$\u0000\u0000\u0000$\u0000\u0000\u0000$\u0000\u0000\u0000 \u0000\u0000\u0000 \u0000\u0000\u0000/\u0000\u0000\u0000$\u0000\u0000\u0000$\u0000\u0000\u0000 \u0000\u0000\u0000 \u0000\u0000\u0000 \u0000\u0000\u0000 \u0000\u0000\u0000 \u0000\u0000\u0000/\u0000\u0000\u0000$\u0000\u0000\u0000$\u0000\u0000\u0000 \u0000\u0000\u0000/\u0000\u0000\u0000$\u0000\u0000\u0000$\u0000\u0000\u0000 \u0000\u0000\u0000 \u0000\u0000\u0000 \u0000\u0000\u0000/\u0000\u0000\u0000$\u0000\u0000\u0000$\u0000\u0000\u0000 \u0000\u0000\u0000 \u0000\u0000\u0000/\u0000\u0000\u0000$\u0000\u0000\u0000$\u0000\u0000\u0000$\u0000\u0000\u0000$\u0000\u0000\u0000$\u0000\u0000\u0000$\u0000\u0000\u0000 \u0000\u0000\u0000\n",
      "\u0000\u0000\u0000|\u0000\u0000\u0000 \u0000\u0000\u0000$\u0000\u0000\u0000$\u0000\u0000\u0000_\u0000\u0000\u0000_\u0000\u0000\u0000 \u0000\u0000\u0000 \u0000\u0000\u0000$\u0000\u0000\u0000$\u0000\u0000\u0000|\u0000\u0000\u0000 \u0000\u0000\u0000 \u0000\u0000\u0000$\u0000\u0000\u0000$\u0000\u0000\u0000 \u0000\u0000\u0000 \u0000\u0000\u0000 \u0000\u0000\u0000/\u0000\u0000\u0000$\u0000\u0000\u0000$\u0000\u0000\u0000/\u0000\u0000\u0000|\u0000\u0000\u0000 \u0000\u0000\u0000$\u0000\u0000\u0000$\u0000\u0000\u0000$\u0000\u0000\u0000 \u0000\u0000\u0000|\u0000\u0000\u0000 \u0000\u0000\u0000$\u0000\u0000\u0000$\u0000\u0000\u0000 \u0000\u0000\u0000/\u0000\u0000\u0000$\u0000\u0000\u0000$\u0000\u0000\u0000_\u0000\u0000\u0000_\u0000\u0000\u0000 \u0000\u0000\u0000 \u0000\u0000\u0000$\u0000\u0000\u0000$\u0000\u0000\u0000\n",
      "\u0000\u0000\u0000|\u0000\u0000\u0000 \u0000\u0000\u0000$\u0000\u0000\u0000$\u0000\u0000\u0000 \u0000\u0000\u0000 \u0000\u0000\u0000\\\u0000\u0000\u0000 \u0000\u0000\u0000$\u0000\u0000\u0000$\u0000\u0000\u0000 \u0000\u0000\u0000\\\u0000\u0000\u0000 \u0000\u0000\u0000 \u0000\u0000\u0000$\u0000\u0000\u0000$\u0000\u0000\u0000 \u0000\u0000\u0000/\u0000\u0000\u0000$\u0000\u0000\u0000$\u0000\u0000\u0000/\u0000\u0000\u0000 \u0000\u0000\u0000|\u0000\u0000\u0000 \u0000\u0000\u0000$\u0000\u0000\u0000$\u0000\u0000\u0000$\u0000\u0000\u0000$\u0000\u0000\u0000|\u0000\u0000\u0000 \u0000\u0000\u0000$\u0000\u0000\u0000$\u0000\u0000\u0000|\u0000\u0000\u0000 \u0000\u0000\u0000$\u0000\u0000\u0000$\u0000\u0000\u0000 \u0000\u0000\u0000 \u0000\u0000\u0000\\\u0000\u0000\u0000 \u0000\u0000\u0000$\u0000\u0000\u0000$\u0000\u0000\u0000\n",
      "\u0000\u0000\u0000|\u0000\u0000\u0000 \u0000\u0000\u0000$\u0000\u0000\u0000$\u0000\u0000\u0000$\u0000\u0000\u0000$\u0000\u0000\u0000$\u0000\u0000\u0000$\u0000\u0000\u0000$\u0000\u0000\u0000/\u0000\u0000\u0000 \u0000\u0000\u0000 \u0000\u0000\u0000\\\u0000\u0000\u0000 \u0000\u0000\u0000 \u0000\u0000\u0000$\u0000\u0000\u0000$\u0000\u0000\u0000$\u0000\u0000\u0000$\u0000\u0000\u0000/\u0000\u0000\u0000 \u0000\u0000\u0000 \u0000\u0000\u0000|\u0000\u0000\u0000 \u0000\u0000\u0000$\u0000\u0000\u0000$\u0000\u0000\u0000 \u0000\u0000\u0000$\u0000\u0000\u0000$\u0000\u0000\u0000 \u0000\u0000\u0000$\u0000\u0000\u0000$\u0000\u0000\u0000|\u0000\u0000\u0000 \u0000\u0000\u0000$\u0000\u0000\u0000$\u0000\u0000\u0000 \u0000\u0000\u0000 \u0000\u0000\u0000|\u0000\u0000\u0000 \u0000\u0000\u0000$\u0000\u0000\u0000$\u0000\u0000\u0000\n",
      "\u0000\u0000\u0000|\u0000\u0000\u0000 \u0000\u0000\u0000$\u0000\u0000\u0000$\u0000\u0000\u0000_\u0000\u0000\u0000_\u0000\u0000\u0000_\u0000\u0000\u0000_\u0000\u0000\u0000/\u0000\u0000\u0000 \u0000\u0000\u0000 \u0000\u0000\u0000 \u0000\u0000\u0000 \u0000\u0000\u0000\\\u0000\u0000\u0000 \u0000\u0000\u0000 \u0000\u0000\u0000$\u0000\u0000\u0000$\u0000\u0000\u0000/\u0000\u0000\u0000 \u0000\u0000\u0000 \u0000\u0000\u0000 \u0000\u0000\u0000|\u0000\u0000\u0000 \u0000\u0000\u0000$\u0000\u0000\u0000$\u0000\u0000\u0000 \u0000\u0000\u0000 \u0000\u0000\u0000$\u0000\u0000\u0000$\u0000\u0000\u0000$\u0000\u0000\u0000$\u0000\u0000\u0000|\u0000\u0000\u0000 \u0000\u0000\u0000$\u0000\u0000\u0000$\u0000\u0000\u0000 \u0000\u0000\u0000 \u0000\u0000\u0000|\u0000\u0000\u0000 \u0000\u0000\u0000$\u0000\u0000\u0000$\u0000\u0000\u0000\n",
      "\u0000\u0000\u0000|\u0000\u0000\u0000 \u0000\u0000\u0000$\u0000\u0000\u0000$\u0000\u0000\u0000 \u0000\u0000\u0000 \u0000\u0000\u0000 \u0000\u0000\u0000 \u0000\u0000\u0000 \u0000\u0000\u0000 \u0000\u0000\u0000 \u0000\u0000\u0000 \u0000\u0000\u0000 \u0000\u0000\u0000 \u0000\u0000\u0000|\u0000\u0000\u0000 \u0000\u0000\u0000$\u0000\u0000\u0000$\u0000\u0000\u0000 \u0000\u0000\u0000 \u0000\u0000\u0000 \u0000\u0000\u0000 \u0000\u0000\u0000|\u0000\u0000\u0000 \u0000\u0000\u0000$\u0000\u0000\u0000$\u0000\u0000\u0000\\\u0000\u0000\u0000 \u0000\u0000\u0000 \u0000\u0000\u0000$\u0000\u0000\u0000$\u0000\u0000\u0000$\u0000\u0000\u0000|\u0000\u0000\u0000 \u0000\u0000\u0000$\u0000\u0000\u0000$\u0000\u0000\u0000/\u0000\u0000\u0000$\u0000\u0000\u0000$\u0000\u0000\u0000 \u0000\u0000\u0000$\u0000\u0000\u0000$\u0000\u0000\u0000\n",
      "\u0000\u0000\u0000|\u0000\u0000\u0000 \u0000\u0000\u0000$\u0000\u0000\u0000$\u0000\u0000\u0000 \u0000\u0000\u0000 \u0000\u0000\u0000 \u0000\u0000\u0000 \u0000\u0000\u0000 \u0000\u0000\u0000 \u0000\u0000\u0000 \u0000\u0000\u0000 \u0000\u0000\u0000 \u0000\u0000\u0000 \u0000\u0000\u0000|\u0000\u0000\u0000 \u0000\u0000\u0000$\u0000\u0000\u0000$\u0000\u0000\u0000 \u0000\u0000\u0000 \u0000\u0000\u0000 \u0000\u0000\u0000 \u0000\u0000\u0000|\u0000\u0000\u0000 \u0000\u0000\u0000$\u0000\u0000\u0000$\u0000\u0000\u0000 \u0000\u0000\u0000\\\u0000\u0000\u0000 \u0000\u0000\u0000 \u0000\u0000\u0000$\u0000\u0000\u0000$\u0000\u0000\u0000|\u0000\u0000\u0000 \u0000\u0000\u0000 \u0000\u0000\u0000$\u0000\u0000\u0000$\u0000\u0000\u0000$\u0000\u0000\u0000$\u0000\u0000\u0000$\u0000\u0000\u0000$\u0000\u0000\u0000/\u0000\u0000\u0000\n",
      "\u0000\u0000\u0000|\u0000\u0000\u0000_\u0000\u0000\u0000_\u0000\u0000\u0000/\u0000\u0000\u0000 \u0000\u0000\u0000 \u0000\u0000\u0000 \u0000\u0000\u0000 \u0000\u0000\u0000 \u0000\u0000\u0000 \u0000\u0000\u0000 \u0000\u0000\u0000 \u0000\u0000\u0000 \u0000\u0000\u0000 \u0000\u0000\u0000|\u0000\u0000\u0000_\u0000\u0000\u0000_\u0000\u0000\u0000/\u0000\u0000\u0000 \u0000\u0000\u0000 \u0000\u0000\u0000 \u0000\u0000\u0000 \u0000\u0000\u0000|\u0000\u0000\u0000_\u0000\u0000\u0000_\u0000\u0000\u0000/\u0000\u0000\u0000 \u0000\u0000\u0000 \u0000\u0000\u0000\\\u0000\u0000\u0000_\u0000\u0000\u0000_\u0000\u0000\u0000/\u0000\u0000\u0000 \u0000\u0000\u0000\\\u0000\u0000\u0000_\u0000\u0000\u0000_\u0000\u0000\u0000_\u0000\u0000\u0000_\u0000\u0000\u0000 \u0000\u0000\u0000$\u0000\u0000\u0000$\u0000\u0000\u0000$\u0000\u0000\u0000\n",
      "\u0000\u0000\u0000 \u0000\u0000\u0000 \u0000\u0000\u0000 \u0000\u0000\u0000 \u0000\u0000\u0000 \u0000\u0000\u0000 \u0000\u0000\u0000 \u0000\u0000\u0000 \u0000\u0000\u0000 \u0000\u0000\u0000 \u0000\u0000\u0000 \u0000\u0000\u0000 \u0000\u0000\u0000 \u0000\u0000\u0000 \u0000\u0000\u0000 \u0000\u0000\u0000 \u0000\u0000\u0000 \u0000\u0000\u0000 \u0000\u0000\u0000 \u0000\u0000\u0000 \u0000\u0000\u0000 \u0000\u0000\u0000 \u0000\u0000\u0000 \u0000\u0000\u0000 \u0000\u0000\u0000 \u0000\u0000\u0000 \u0000\u0000\u0000 \u0000\u0000\u0000 \u0000\u0000\u0000 \u0000\u0000\u0000 \u0000\u0000\u0000 \u0000\u0000\u0000 \u0000\u0000\u0000 \u0000\u0000\u0000 \u0000\u0000\u0000 \u0000\u0000\u0000 \u0000\u0000\u0000 \u0000\u0000\u0000 \u0000\u0000\u0000\\\u0000\u0000\u0000_\u0000\u0000\u0000_\u0000\u0000\u0000/\u0000\u0000\u0000\n",
      "\u0000\u0000\u0000\n",
      "\u0000\u0000\u0000 \u0000\u0000\u0000 \u0000\u0000\u0000 \u0000\u0000\u0000 \u0000\u0000\u0000 \u0000\u0000\u0000 \u0000\u0000\u0000 \u0000\u0000\u0000 \u0000\u0000\u0000 \u0000\u0000\u0000 \u0000\u0000\u0000 \u0000\u0000\u0000 \u0000\u0000\u0000 \u0000\u0000\u0000 \u0000\u0000\u0000 \u0000\u0000\u0000 \u0000\u0000\u0000 \u0000\u0000\u0000 \u0000\u0000\u0000 \u0000\u0000\u0000 \u0000\u0000\u0000 \u0000\u0000\u0000 \u0000\u0000\u0000 \u0000\u0000\u0000 \u0000\u0000\u0000 \u0000\u0000\u0000 \u0000\u0000\u0000 \u0000\u0000\u0000 \u0000\u0000\u0000 \u0000\u0000\u0000 \u0000\u0000\u0000 \u0000\u0000\u0000 \u0000\u0000\u0000 \u0000\u0000\u0000 \u0000\u0000\u0000 \u0000\u0000\u0000 \u0000\u0000\u0000 \u0000\u0000\u0000 \u0000\u0000\u0000 \u0000\u0000\u0000 \u0000\u0000\u0000 \u0000\u0000\u0000 \u0000\u0000\u0000\n",
      "\u0000\u0000\u0000 \u0000\u0000\u0000 \u0000\u0000\u0000 \u0000\u0000\u0000 \u0000\u0000\u0000 \u0000\u0000\u0000 \u0000\u0000\u0000 \u0000\u0000\u0000 \u0000\u0000\u0000 \u0000\u0000\u0000 \u0000\u0000\u0000 \u0000\u0000\u0000 \u0000\u0000\u0000 \u0000\u0000\u0000 \u0000\u0000\u0000 \u0000\u0000\u0000 \u0000\u0000\u0000 \u0000\u0000\u0000 \u0000\u0000\u0000 \u0000\u0000\u0000 \u0000\u0000\u0000 \u0000\u0000\u0000 \u0000\u0000\u0000 \u0000\u0000\u0000 \u0000\u0000\u0000 \u0000\u0000\u0000 \u0000\u0000\u0000 \u0000\u0000\u0000 \u0000\u0000\u0000 \u0000\u0000\u0000 \u0000\u0000\u0000 \u0000\u0000\u0000 \u0000\u0000\u0000 \u0000\u0000\u0000 \u0000\u0000\u0000 \u0000\u0000\u0000 \u0000\u0000\u0000 \u0000\u0000\u0000 \u0000\u0000\u0000 \u0000\u0000\u0000 \u0000\u0000\u0000 \u0000\u0000\u0000\n"
     ]
    }
   ],
   "source": [
    "print(packets_out.decode())"
   ]
  },
  {
   "cell_type": "code",
   "execution_count": 16,
   "metadata": {},
   "outputs": [
    {
     "data": {
      "text/plain": [
       "True"
      ]
     },
     "execution_count": 16,
     "metadata": {},
     "output_type": "execute_result"
    }
   ],
   "source": [
    "# Another way to verify core functionality\n",
    "np.array_equal(dma_buf_in,dma_buf_out)"
   ]
  },
  {
   "cell_type": "markdown",
   "metadata": {},
   "source": [
    "Lastly, the CMAC has internal registers which can report some basic statistics. Optionally run the four DMA transfer cells multiple times to get statistics on multiple packets. Note the registers automatically self-clear after reporting. Run `cmac.getStats(False)` instead to prevent them from clearing."
   ]
  },
  {
   "cell_type": "code",
   "execution_count": 17,
   "metadata": {},
   "outputs": [
    {
     "data": {
      "text/plain": [
       "{'cycle_count': 2816748107,\n",
       " 'rx': {'bad_fcs': 0,\n",
       "  'bytes': 1892,\n",
       "  'good_bytes': 1892,\n",
       "  'good_packets': 1,\n",
       "  'packets': 1,\n",
       "  'packets_bad_fcs': 0,\n",
       "  'packets_fragmented': 0,\n",
       "  'packets_jabber': 0,\n",
       "  'packets_large': 0,\n",
       "  'packets_oversize': 0,\n",
       "  'packets_small': 0,\n",
       "  'packets_toolong': 0,\n",
       "  'packets_undersize': 0,\n",
       "  'pause': 0,\n",
       "  'stomped_fcs': 0,\n",
       "  'user_pause': 0},\n",
       " 'tx': {'bad_fcs': 0,\n",
       "  'bytes': 1892,\n",
       "  'good_bytes': 1892,\n",
       "  'good_packets': 1,\n",
       "  'packets': 1,\n",
       "  'packets_large': 0,\n",
       "  'packets_small': 0,\n",
       "  'pause': 0,\n",
       "  'user_pause': 0}}"
      ]
     },
     "execution_count": 17,
     "metadata": {},
     "output_type": "execute_result"
    }
   ],
   "source": [
    "cmac.getStats()"
   ]
  },
  {
   "cell_type": "markdown",
   "metadata": {},
   "source": [
    "----\n",
    "----\n",
    "\n",
    "Copyright (C) 2021 Xilinx, Inc\n",
    "\n",
    "SPDX-License-Identifier: BSD-3-Clause"
   ]
  }
 ],
 "metadata": {
  "kernelspec": {
   "display_name": "Python 3",
   "language": "python",
   "name": "python3"
  },
  "language_info": {
   "codemirror_mode": {
    "name": "ipython",
    "version": 3
   },
   "file_extension": ".py",
   "mimetype": "text/x-python",
   "name": "python",
   "nbconvert_exporter": "python",
   "pygments_lexer": "ipython3",
   "version": "3.8.3"
  }
 },
 "nbformat": 4,
 "nbformat_minor": 4
}
